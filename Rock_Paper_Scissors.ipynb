{
  "nbformat": 4,
  "nbformat_minor": 0,
  "metadata": {
    "colab": {
      "name": "Rock_Paper_Scissors.ipynb",
      "provenance": [],
      "authorship_tag": "ABX9TyO3gv/vrGTagW0ygwP5YC4v",
      "include_colab_link": true
    },
    "kernelspec": {
      "name": "python3",
      "display_name": "Python 3"
    }
  },
  "cells": [
    {
      "cell_type": "markdown",
      "metadata": {
        "id": "view-in-github",
        "colab_type": "text"
      },
      "source": [
        "<a href=\"https://colab.research.google.com/github/sakshi2199/Python/blob/master/Rock_Paper_Scissors.ipynb\" target=\"_parent\"><img src=\"https://colab.research.google.com/assets/colab-badge.svg\" alt=\"Open In Colab\"/></a>"
      ]
    },
    {
      "cell_type": "code",
      "metadata": {
        "id": "Qx4AWgljx4Hk",
        "colab_type": "code",
        "colab": {
          "base_uri": "https://localhost:8080/",
          "height": 218
        },
        "outputId": "7f016ee5-6d6d-4298-f917-a1de46225c6d"
      },
      "source": [
        "import random\n",
        "choices = ['Rock', 'Paper','Scissors']\n",
        "print(\"Rock! Paper! Scissors!\")\n",
        "print(\"THE GAME IS ABOUT TO BEGIN!!\")\n",
        "u=0\n",
        "c=0\n",
        "for i in range(1,4):\n",
        "    user = input(\"Choose from rock paper scissors ---> \")\n",
        "    comp = random.choice(choices)\n",
        "    if comp=='Rock' and user=='Paper':\n",
        "        u=u+1\n",
        "        print('Computer =', comp)\n",
        "    elif comp=='Rock' and user=='Scissors':\n",
        "        c=c+1\n",
        "        print('Computer =', comp)\n",
        "    elif comp=='Rock' and user =='Rock':\n",
        "        u = u+1\n",
        "        c = c+1\n",
        "        print('Computer =', comp)\n",
        "    elif comp=='Paper' and user == 'Paper':\n",
        "        u = u+1\n",
        "        c = c+1\n",
        "        print('Computer =', comp)\n",
        "    elif comp=='Paper' and user == 'Rock':\n",
        "        c = c+1\n",
        "        print('Computer =', comp)\n",
        "    elif comp=='Paper' and user =='Scissors':\n",
        "        u = u+1\n",
        "        print('Computer =', comp)\n",
        "    elif comp=='Scissors' and user=='Scissors':\n",
        "        u = u+1\n",
        "        c = c+1\n",
        "        print('Computer =', comp)\n",
        "    elif comp=='Scissors' and user=='Rock':\n",
        "        u = u+1\n",
        "        print('Computer =', comp)\n",
        "    else:\n",
        "        c=c+1\n",
        "        print('Computer =', comp)\n",
        "print()\n",
        "if c>u:\n",
        "    print('Computer Scored --->',c)\n",
        "    print('You Scored --->', u)\n",
        "    print(\"Sorry, You Loose\")\n",
        "elif c<u:\n",
        "    print('Computer Scored --->',c)\n",
        "    print('You Scored --->', u)\n",
        "    print(\"Congratulations, You Win\")\n",
        "else:\n",
        "    print('Computer Scored --->',c)\n",
        "    print('You Scored --->', u)\n",
        "    print(\"Its a Tie\")\n",
        "    \n",
        "\n",
        "    \n",
        "    \n"
      ],
      "execution_count": 1,
      "outputs": [
        {
          "output_type": "stream",
          "text": [
            "Rock! Paper! Scissors!\n",
            "THE GAME IS ABOUT TO BEGIN!!\n",
            "Choose from rock paper scissors ---> Rock\n",
            "Computer = Paper\n",
            "Choose from rock paper scissors ---> Rock\n",
            "Computer = Rock\n",
            "Choose from rock paper scissors ---> Rock\n",
            "Computer = Rock\n",
            "\n",
            "Computer Scored ---> 3\n",
            "You Scored ---> 2\n",
            "Sorry, You Loose\n"
          ],
          "name": "stdout"
        }
      ]
    }
  ]
}